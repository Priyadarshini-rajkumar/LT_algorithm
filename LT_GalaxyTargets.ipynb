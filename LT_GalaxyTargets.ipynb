{
 "cells": [
  {
   "cell_type": "code",
   "execution_count": 1,
   "metadata": {},
   "outputs": [],
   "source": [
    "from LT_container import *\n",
    "\n",
    "#Option 1: GWGC Catalog\n",
    "GWGC_dir            = \"/mnt/d/GROWTH/LT_algorithm/GWGC_catalog.txt\" # local directory of GWGC catalog\n",
    "GWGC                = pd.read_csv(GWGC_dir, sep='\\t') # galaxy list from NED\n",
    "GWGC                = GWGC.replace(r'^\\s+$', np.nan, regex=True)\n",
    "GWGC.columns       = ['name', 'ra', 'dec', 'TT', 'Bmag', 'e_Bmag', 'a', 'e_a', 'b',\n",
    "                    'e_b', 'b/a', 'e_b/a', 'PA', 'BMAG', 'e_BMAG', 'dist', 'e_Dist']\n",
    "for col_name in GWGC.columns[1:]:  # changing the datatypes of the columns form object to float \n",
    "     GWGC.loc[:,col_name] = GWGC.loc[:,col_name].astype(float)\n",
    "GWGC             = GWGC.loc[:,['name','ra','dec','BMAG','dist']]\n",
    "\n",
    "#===========================================================================================================\n",
    "# Option 2: CLU NED Catalog; If this catalog is used, change Column names in the rest of the code accordingly  \n",
    "\n",
    "#CLU_NED_dir         = \"/data1/extprajk/catalogs/CLU_NEDonly.fits\" # local directory of CLU_NED \n",
    "#data                = Table.read(CLU_NED_dir, format = 'fits')\n",
    "#CLU_NED             = data.to_pandas()\n",
    "\n",
    "#for col_name in CLU_NED.columns:                                               # some column of the df has uncessary character (b'..') \n",
    "#    value = CLU_NED.loc[0,col_name]    \n",
    "#    value = str(value)\n",
    "#    if value[0] == 'b':           \n",
    "#        CLU_NED[col_name] = CLU_NED[col_name].astype(str)                       # first all the values are converted from object to string to split.\n",
    "#        new               = CLU_NED[col_name].str.split(\"'\", expand = True)     # the string is split\n",
    "#        CLU_NED[col_name] = new[1] # only the middle column (desired value) is stored and the rest is dropped.\n",
    "#CLU_NED.columns = [ 'CLUID', 'ID_OTHER', 'name', 'ra', 'dec', 'DM', 'DM_KIN', 'BTC', 'A', 'RATIO_B2A', 'PA', 'TYPE', 'M21', 'RA_NED', 'DEC_NED', 'Z', 'ZERR',\n",
    "#                    'A_NED', 'B2A_NED', 'PA_NED', 'TYPE_NED', 'SOURCE', 'B_T', 'B_TERR',\n",
    "#                    'B_R25', 'B_R25ERR', 'RA_SDSS', 'DEC_SDSS', 'PETROMAG_U', 'PETROMAG_G',\n",
    "#                    'PETROMAG_R', 'PETROMAG_I', 'PETROMAG_Z', 'PETROMAGERR_U',\n",
    "#                    'PETROMAGERR_G', 'PETROMAGERR_R', 'PETROMAGERR_I', 'PETROMAGERR_Z',\n",
    "#                    'MODELMAG_U', 'MODELMAG_G', 'MODELMAG_R', 'MODELMAG_I', 'MODELMAG_Z',\n",
    "#                    'MODELMAGERR_U', 'MODELMAGERR_G', 'MODELMAGERR_R', 'MODELMAGERR_I',\n",
    "#                    'MODELMAGERR_Z', 'DESIGNATION_WISE', 'W1MPRO', 'W1SIGMPRO', 'W1SNR',\n",
    "#                    'W2MPRO', 'W2SIGMPRO', 'W2SNR', 'W3MPRO', 'W3SIGMPRO', 'W3SNR',\n",
    "#                    'W4MPRO', 'W4SIGMPRO', 'W4SNR', 'DESIGNATION_2MASS', 'RA_2MASS',\n",
    "#                    'DEC_2MASS', 'R_K20FE', 'J_M_K20FE', 'J_MSIG_K20FE', 'J_FLG_K20FE',\n",
    "#                    'H_M_K20FE', 'H_MSIG_K20FE', 'H_FLG_K20FE', 'K_M_K20FE', 'K_MSIG_K20FE',\n",
    "#                    'K_FLG_K20FE', 'COORD_SOURCE', 'BTC_SOURCE', 'SIZE_SOURCE', 'DM_SOURCE',\n",
    "#                    'DM_KIN_OTHER', 'DM_RANGE', 'Z_SOURCE', 'DM_FLAG', 'RA_GALEX',\n",
    "#                    'DEC_GALEX', 'FUV', 'NUV', 'FUVERR', 'NUVERR', 'Bmag', 'LUM_B',\n",
    "#                    'dist', 'HAGAL', 'HACAND', 'NEDname']  \n",
    "#CLU_NED = CLU_NED.loc[:,['name','ra','dec','Bmag','dist']] # only the middle column (desired value) is stored and the rest is dropped.\n",
    "\n",
    "#=====================================================================================================\n",
    "#Option 3: GLADE Catalog; If this catalog is used, change Column names in the rest of the code accordingly  \n",
    "\n",
    "#GLADE_dir           = \"/data1/extprajk/catalogs/GLADE_2.3.txt\"  # local directory of GLADE Catalog\n",
    "#GLADE               = pd.read_csv(GLADE_dir, delimiter=' ',header = None)\n",
    "#GLADE.columns       = ['PGC','name', 'HyperLEDA name','2MASS name','SDSS-DR12 name','flag1','ra','dec','dist','dist_err','z','Bmag', 'Bmag_err','BMAG','Jmag','Jmag_err','Hmag','Hmag_err','Kmag']\n",
    "\n"
   ]
  },
  {
   "cell_type": "code",
   "execution_count": 2,
   "metadata": {},
   "outputs": [],
   "source": [
    "#set configurable parameters\n",
    "start_time          = Time(\"2019-06-29 21:00\") # start time of LT observation \n",
    "end_time            = Time(\"2019-06-30 5:00\")  # end time of LT observation\n",
    "LT                  = Observer.at_site('lapalma')  # information about the site\n",
    "LT_constraints      = [AltitudeConstraint(20 * u.deg), AtNightConstraint.twilight_nautical(),\n",
    "                           MoonSeparationConstraint(5 * u.deg), AirmassConstraint(None)]     # constraits for observability\n",
    "Dist                = 40  # estimated distance of the merger event; units in Mega parsec\n",
    "Dist_err            = 20  # distance error in Mega parsecs\n",
    "Event_ID            = 'GW170817'\n",
    "observation_time    = 2 * 60  #mins\n",
    "seeing              = 5.0   # units in arcsec\n",
    "required_SNR        = 50.0  # (used to calculate an estimate for exposure time)\n",
    "sky_brightness      = 2   #La palma Sky Brightness  \n",
    "no_of_filters       = 1  # number of filters used for observation\n",
    "no_of_exposures     = [2,1] # number of exposures in each filter used to caluclate approx. total observation time \n",
    "#========================================================================================================================="
   ]
  },
  {
   "cell_type": "code",
   "execution_count": 3,
   "metadata": {},
   "outputs": [
    {
     "data": {
      "image/png": "[encoded data removed]",
      "text/plain": [
       "<Figure size 612x388.8 with 2 Axes>"
      ]
     },
     "metadata": {
      "needs_background": "light"
     },
     "output_type": "display_data"
    },
    {
     "data": {
      "image/png": "[encoded data removed]",
      "text/plain": [
       "<Figure size 432x288 with 1 Axes>"
      ]
     },
     "metadata": {
      "needs_background": "light"
     },
     "output_type": "display_data"
    }
   ],
   "source": [
    "#locally recreating the GW Error Map\n",
    "bayestar_dir        = \"/mnt/d/GROWTH/LT_algorithm/LALInference_v2.fits.gz\"  # local directory of the Bayestar map from GRACEDB website     \n",
    "prob, distmu, distsigma, distnorm = hp.read_map(bayestar_dir, field = [0, 1, 2, 3], verbose = False)\n",
    "credible_levels       = find_greedy_credible_levels(prob) # obtaining the probability for each pixel if it is in or outside the error region\n",
    "npix                   = len(prob)\n",
    "nside                  = hp.npix2nside(npix)\n",
    "hp.mollview(prob)\n",
    "plt.savefig(\"GwErrorMap.png\")\n",
    "plt.title(\"GW Error Map (Mollweide Projection)\")\n",
    "plt.show()\n",
    "#==========================================================================================================================\n",
    "# Locally plotting the GW Event Distance Probability \n",
    "r     = np.linspace(0, 100)\n",
    "dp_dr = [np.sum(prob * rr**2 * distnorm * norm(distmu, distsigma).pdf(rr)) for rr in r]\n",
    "plt.plot(r, dp_dr)\n",
    "plt.xlabel('distance (Mpc)')\n",
    "plt.ylabel('prob Mpc$ˆ{-1}$')\n",
    "plt.savefig(\"Distance_probrabilty.png\")\n",
    "plt.show()\n",
    "#=========================================================================================================================="
   ]
  },
  {
   "cell_type": "code",
   "execution_count": null,
   "metadata": {},
   "outputs": [],
   "source": [
    "# Applying various constraints specific to the Liverpool Telescope\n",
    "host_candidates                            = distance_filter(Dist, Dist_err, GWGC)\n",
    "probability_levels, credible_list          = credibility(host_candidates, nside,credible_levels)\n",
    "host_candidates.loc[:,'probabilty_region'] = probability_levels\n",
    "host_candidates                            = host_candidates[credible_list]\n",
    "df                                         = host_candidates.loc[:,[\"name\",\"ra\",\"dec\"]] \n",
    "targets_astropy                            = Table.from_pandas(df) # converting the dataframe into an astropy table\n",
    "time_range                              = Time([start_time, end_time])   # time of observation\n",
    "targets                                 = [FixedTarget(coord = SkyCoord(ra = ra* u.deg, dec=dec* u.deg), name = name) \n",
    "                                            for name, ra, dec in targets_astropy]      \n",
    "LT                                      = Observer.at_site('lapalma')  # information about the site\n",
    "observable                              = is_observable(LT_constraints,LT,targets, time_range=time_range)  # is observable atleast for a short duration for the given time range\n",
    "LT_targets                              = host_candidates[observable]\n",
    "#===========================================================================================================\n",
    "# Weighting each observable target based on Blue Magnitude, Location and Distance probabilty \n",
    "no_BMAG                                 = LT_targets.loc[:,'BMAG']   != 'NaN' # removing galaxies that do not have absolute Blue mag\n",
    "LT_targets                              = LT_targets[no_BMAG]\n",
    "BMAG_score                              = scoring(LT_targets.BMAG)   # a list of score values for targets based on Blue Magnitude\n",
    "LT_targets.loc[:,\"BMAG_score\"]          = BMAG_score  # adding Bmag_score as a column to the datframe\n",
    "Prob_region_score                       = scoring(LT_targets.probabilty_region)\n",
    "LT_targets.loc[:, 'prob_region_score']  = Prob_region_score\n",
    "final_score_list                        = final_score(LT_targets.loc[:, [\"BMAG_score\",\"prob_region_score\",'dist_score']])\n",
    "LT_targets.loc[:, \"Final_score\"]        = final_score_list\n",
    "LT_targets                              = LT_targets.sort_values('Final_score', ascending = False)\n",
    "print (\"---------A csv file of list of host candidates is created----------------\")\n",
    "LT_targets.to_csv(r'TargerList.csv')\n",
    "#================================================================================================================"
   ]
  },
  {
   "cell_type": "code",
   "execution_count": null,
   "metadata": {},
   "outputs": [],
   "source": [
    "#Calculating the optimal exposure time for the Liverpool telescope to maximize the detectability rates \n",
    "BNS_mag   = BNS_magnitude(Dist, Dist_err)\n",
    "print ('Expected BNS merger apparent magnitude: ', BNS_mag)\n",
    "ExposureTime = exposure_time(BNS_mag, required_SNR, seeing, sky_brightness)\n",
    "print ('Optimal Exposure time:',ExposureTime,'s')\n",
    "n   = len(LT_targets)\n",
    "one_filter_obs, total_obs = total_observation_time(ExposureTime, n, no_of_filters, no_of_exposures)\n",
    "one_target_obs  = one_filter_obs * no_of_filters\n",
    "print ('Time to complete observation of one target:', one_target_obs,'m')\n",
    "print  ('Total approximated time of observation:', total_obs,'m')\n"
   ]
  },
  {
   "cell_type": "code",
   "execution_count": null,
   "metadata": {},
   "outputs": [],
   "source": [
    "# Finding the total number of galaxies in the GW error volume using schechter luminoisty function\n",
    "binwidth    = 0.2\n",
    "H0          = 70   \n",
    "h_50        = H0 / 50\n",
    "phi_star    = 0.0002 * (h_50 ** 3)#Mpc-3  \n",
    "L_star      = 10.38\n",
    "alpha       = -1.25    \n",
    "L           = np.linspace(6, 11, 1000000)\n",
    "schechter   = (1/binwidth)*phi_star * ((10**L / 10**L_star)** (alpha))* np.exp (- 10**L / 10**L_star) * ((10**(L+0.1))+(10**(L-0.1)))/10**L_star\n",
    "plt.loglog(10**L,schechter,'r')\n",
    "plt.xlabel('Lumninosity')\n",
    "plt.title('Schecter Lumninosity function')\n",
    "plt.grid(True)\n",
    "plt.ylabel('Number density/ Mpc3')\n",
    "plt.show()\n",
    "objects_per_Mpc3 = integrate.simps(schechter, L)\n",
    "print ('No of galaxies per Mpc^3:', objects_per_Mpc3)\n",
    "GW_sq_deg       = np.sum(credible_levels <= 0.9) * hp.nside2pixarea(nside, degrees=True)  #compute the 90% credible area by counting the number of pixels inside the 90% credible region and multiplying by the area per pixel\n",
    "whole_sphere_deg= 41253 \n",
    "Dist_range      = np.linspace(Dist - Dist_err, Dist + Dist_err, 1000)\n",
    "area_range      = 4 * np.pi * (GW_sq_deg/whole_sphere_deg) * (Dist_range **2)\n",
    "GW_vol_Mpc3      = integrate.simps(area_range, Dist_range)\n",
    "print ('GW Probability volume:', GW_vol_Mpc3,'Mpc3')\n",
    "no_of_obj       = int(GW_vol_Mpc3*objects_per_Mpc3)\n",
    "print ('Luminous Galaxies in GW Probability Volume:', no_of_obj)\n",
    "#========================================================================================================================"
   ]
  },
  {
   "cell_type": "code",
   "execution_count": null,
   "metadata": {},
   "outputs": [],
   "source": [
    "# Finding the catalog completeness for this event using the approximated RCF function\n",
    "prob         = [(i) for i in dp_dr if i>1e-10]\n",
    "r_s          = r[dp_dr.index(prob[0])]\n",
    "r_end        = r[dp_dr.index(prob[len(prob)-1])]\n",
    "Dist         = np.arange(r_s, r_end, (r_end-r_s) / len(prob))  # Distance distribution\n",
    "RCF_d        = 0.8 - 0.00147 * Dist\n",
    "RCF_d        = [(i) for i in RCF_d if i>1e-4]\n",
    "plt.plot(Dist[0:len(RCF_d)], RCF_d,'r')\n",
    "plt.title('Approx. Catalog Completeness') \n",
    "plt.xlabel('Distance (Mpc)')\n",
    "plt.grid()\n",
    "plt.ylabel('Simplified Redshift Correctness Factor (RCF)')                # redshift correctness factor\n",
    "plt.show()\n",
    "weighted_RCF_value  = weighted_RCF(RCF_d, prob)  # completeness of the catalog\n",
    "print('Approx. Catalog Completeness:', weighted_RCF_value*100,'%')\n",
    "Bmag                = LT_targets[0:100]['BMAG'].sum()\n",
    "total_Bmag          = LT_targets['BMAG'].sum()            \n",
    "probability         = Bmag / total_Bmag                   #completeness of the observation\n",
    "completeness        = round(weighted_RCF_value * probability * 100,2)\n",
    "print ('Completeness of the observation: ',completeness,'%')"
   ]
  },
  {
   "cell_type": "code",
   "execution_count": null,
   "metadata": {},
   "outputs": [],
   "source": []
  }
 ],
 "metadata": {
  "kernelspec": {
   "display_name": "Python 3",
   "language": "python",
   "name": "python3"
  },
  "language_info": {
   "codemirror_mode": {
    "name": "ipython",
    "version": 3
   },
   "file_extension": ".py",
   "mimetype": "text/x-python",
   "name": "python",
   "nbconvert_exporter": "python",
   "pygments_lexer": "ipython3",
   "version": "3.6.8"
  }
 },
 "nbformat": 4,
 "nbformat_minor": 2
}
